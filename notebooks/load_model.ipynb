{
  "cells": [
    {
      "cell_type": "code",
      "execution_count": null,
      "metadata": {
        "id": "40yLdijshul9"
      },
      "outputs": [],
      "source": [
        "from google.colab import drive\n",
        "drive.mount('/content/drive')"
      ]
    },
    {
      "cell_type": "code",
      "execution_count": null,
      "metadata": {
        "id": "aTwr4-crhU92"
      },
      "outputs": [],
      "source": [
        "import tensorflow as tf"
      ]
    },
    {
      "cell_type": "code",
      "execution_count": null,
      "metadata": {
        "colab": {
          "base_uri": "https://localhost:8080/",
          "height": 287
        },
        "id": "y7HiCt_OhU94",
        "outputId": "57478c46-8b88-41b6-8e9b-b6af72100fb5"
      },
      "outputs": [],
      "source": [
        "model = tf.keras.models.load_model('result/best_model_densenet_27.keras')"
      ]
    },
    {
      "cell_type": "markdown",
      "metadata": {
        "id": "SgEQ2x0_hU95"
      },
      "source": [
        "## Predict"
      ]
    },
    {
      "cell_type": "code",
      "execution_count": null,
      "metadata": {
        "id": "7N-cS2qOhU96"
      },
      "outputs": [],
      "source": [
        "# Data prediksi yang sudah ditampilkan\n",
        "predictions_data = [\n",
        "    (0, 'Ayam Bakar'),\n",
        "    (1, 'Ayam Geprek'),\n",
        "    (2, 'Ayam Goreng'),\n",
        "    (3, 'Bakso'),\n",
        "    (4, 'Batagor'),\n",
        "    (5, 'Bebek Goreng'),\n",
        "    (6, 'Cireng'),\n",
        "    (7, 'Donut'),\n",
        "    (8, 'French Fries'),\n",
        "    (9, 'Gado - Gado'),\n",
        "    (10, 'Gulai Kambing'),\n",
        "    (11, 'Martabak Asin'),\n",
        "    (12, 'Martabak Manis'),\n",
        "    (13, 'Mie Ayam'),\n",
        "    (14, 'Nasi Goreng'),\n",
        "    (15, 'Nasi Kuning'),\n",
        "    (16, 'Pecel Lele'),\n",
        "    (17, 'Pempek'),\n",
        "    (18, 'Pizza'),\n",
        "    (19, 'Rendang'),\n",
        "    (20, 'Sate Ayam'),\n",
        "    (21, 'Sop Buntut'),\n",
        "    (22, 'Soto'),\n",
        "    (23, 'Tahu Goreng'),\n",
        "    (24, 'Tekwan'),\n",
        "    (25, 'Telur Dadar'),\n",
        "    (26, 'Tempe Goreng')\n",
        "]\n",
        "\n",
        "# Membuat dictionary dari data prediksi\n",
        "class_dict = {index: name for index, name in predictions_data}"
      ]
    },
    {
      "cell_type": "code",
      "execution_count": null,
      "metadata": {
        "id": "Cuvtb3dHhU97"
      },
      "outputs": [],
      "source": [
        "from tensorflow.keras.preprocessing import image\n",
        "import numpy as np\n",
        "\n",
        "\n",
        "# Fungsi untuk memproses gambar\n",
        "def preprocess_image(img_path):\n",
        "    img = image.load_img(img_path, target_size=(224, 224))\n",
        "    img_array = image.img_to_array(img)\n",
        "    img_array = np.expand_dims(img_array, axis=0)\n",
        "    img_array /= 255.0  # Normalisasi\n",
        "    return img_array\n",
        "\n",
        "# Path ke img\n",
        "img_path = 'result/ayam2-safiq.jpg'\n",
        "\n",
        "# Preprocessing gambar\n",
        "img_array = preprocess_image(img_path)\n",
        "\n",
        "# Prediksi\n",
        "predictions = model.predict(img_array)\n"
      ]
    },
    {
      "cell_type": "code",
      "execution_count": null,
      "metadata": {
        "id": "CBnAafznhU97",
        "outputId": "a926e97a-819b-447f-e17e-5c6e21e05f36"
      },
      "outputs": [],
      "source": [
        "predicted_class = np.argmax(predictions, axis=1)[0]\n",
        "\n",
        "# Label\n",
        "predicted_label = class_dict[predicted_class]\n",
        "confidence = predictions[0][predicted_class]\n",
        "print(f\"Predicted class index: {predicted_class}, label: {predicted_label}, confidence: {confidence:.6f}\")"
      ]
    }
  ],
  "metadata": {
    "accelerator": "GPU",
    "colab": {
      "gpuType": "T4",
      "provenance": []
    },
    "kernelspec": {
      "display_name": "Python 3",
      "name": "python3"
    },
    "language_info": {
      "codemirror_mode": {
        "name": "ipython",
        "version": 3
      },
      "file_extension": ".py",
      "mimetype": "text/x-python",
      "name": "python",
      "nbconvert_exporter": "python",
      "pygments_lexer": "ipython3",
      "version": "3.9.19"
    }
  },
  "nbformat": 4,
  "nbformat_minor": 0
}
