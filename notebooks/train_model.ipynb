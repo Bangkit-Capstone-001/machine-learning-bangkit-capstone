{
  "cells": [
    {
      "cell_type": "code",
      "execution_count": null,
      "metadata": {
        "id": "xl4r3zBErJCz"
      },
      "outputs": [],
      "source": [
        "from tensorflow.keras.layers import Dense, Flatten, Dropout\n",
        "from tensorflow.keras.models import Model\n",
        "from tensorflow.keras.applications.densenet import DenseNet121\n",
        "from tensorflow.keras.preprocessing.image import ImageDataGenerator\n",
        "from tensorflow.keras.optimizers import Adam\n",
        "from glob import glob"
      ]
    },
    {
      "cell_type": "code",
      "execution_count": null,
      "metadata": {
        "id": "G73vhlC6rJC4"
      },
      "outputs": [],
      "source": [
        "# Image size\n",
        "IMAGE_SIZE = [224, 224]\n",
        "\n",
        "train_path = 'data/train'\n",
        "valid_path = 'data/validation'\n",
        "\n",
        "densenet = DenseNet121(input_shape=IMAGE_SIZE + [3], weights='imagenet', include_top=False)"
      ]
    },
    {
      "cell_type": "code",
      "execution_count": null,
      "metadata": {
        "id": "A3mSszcwrJC5"
      },
      "outputs": [],
      "source": [
        "# Freeze all layers\n",
        "for layer in densenet.layers:\n",
        "    layer.trainable = False\n",
        "\n",
        "folders = glob('data/train/*')"
      ]
    },
    {
      "cell_type": "code",
      "execution_count": null,
      "metadata": {
        "id": "IoqmN9SErJC5"
      },
      "outputs": [],
      "source": [
        "# Add layer\n",
        "x = Flatten()(densenet.output)\n",
        "x = Dense(1024, activation='relu')(x)\n",
        "x = Dropout(0.2)(x)\n",
        "\n",
        "prediction = Dense(len(folders), activation='softmax')(x)\n",
        "\n",
        "model = Model(inputs=densenet.input, outputs=prediction)\n"
      ]
    },
    {
      "cell_type": "code",
      "execution_count": null,
      "metadata": {
        "id": "2Aq0XF9TrJC6"
      },
      "outputs": [],
      "source": [
        "# # Memastikan tidak ada karakter '/' di nama layer\n",
        "for layer in model.layers:\n",
        "  if '/' in layer.name:\n",
        "    layer._name = layer.name.replace('/', '-')"
      ]
    },
    {
      "cell_type": "code",
      "execution_count": null,
      "metadata": {
        "id": "uJmZAaRlrJC6"
      },
      "outputs": [],
      "source": [
        "# Setup learning rate\n",
        "initial_learning_rate = 0.0001\n",
        "optimizer = Adam(learning_rate=initial_learning_rate)\n",
        "\n",
        "\n",
        "model.compile(\n",
        "  loss='categorical_crossentropy',\n",
        "  optimizer=optimizer,\n",
        "  metrics=['accuracy']\n",
        ")\n",
        "\n",
        "\n",
        "train_datagen = ImageDataGenerator(rescale=1./255,\n",
        "                                   shear_range=0.2,\n",
        "                                   zoom_range=0.2,\n",
        "                                   horizontal_flip=True)\n",
        "\n",
        "test_datagen = ImageDataGenerator(rescale=1./255)\n"
      ]
    },
    {
      "cell_type": "code",
      "execution_count": null,
      "metadata": {
        "id": "5e6oDjnhrJC7",
        "outputId": "d9fc3a27-8620-48dd-9330-e1495e126e34"
      },
      "outputs": [],
      "source": [
        "training_set = train_datagen.flow_from_directory(train_path,\n",
        "                                                 target_size=(224, 224),\n",
        "                                                 batch_size=32,\n",
        "                                                 class_mode='categorical')\n",
        "\n",
        "test_set = test_datagen.flow_from_directory(valid_path,\n",
        "                                            target_size=(224, 224),\n",
        "                                            batch_size=16,\n",
        "                                            class_mode='categorical')"
      ]
    },
    {
      "cell_type": "code",
      "execution_count": null,
      "metadata": {
        "id": "IU-ZVHXNrJC9"
      },
      "outputs": [],
      "source": [
        "from tensorflow.keras.callbacks import ModelCheckpoint, ReduceLROnPlateau\n",
        "\n",
        "# Set up callbacks\n",
        "checkpoint = ModelCheckpoint('result/best_model_densenet.keras',\n",
        "                             monitor='val_accuracy',\n",
        "                             verbose=1,\n",
        "                             save_best_only=True,\n",
        "                             mode='max')\n",
        "\n",
        "reduce_lr = ReduceLROnPlateau(monitor='val_loss',\n",
        "                              factor=0.2,\n",
        "                              patience=3,\n",
        "                              min_lr=1e-6,\n",
        "                              verbose=1)\n",
        "\n",
        "callbacks = [checkpoint, reduce_lr]"
      ]
    },
    {
      "cell_type": "code",
      "execution_count": null,
      "metadata": {
        "id": "4QCYUPTIrJC9",
        "outputId": "a4b33ed5-7f26-425b-a0ed-d70f64b4df58"
      },
      "outputs": [],
      "source": [
        "# Train the model\n",
        "r = model.fit(\n",
        "    training_set,\n",
        "    validation_data=test_set,\n",
        "    epochs=15,\n",
        "    steps_per_epoch=len(training_set),\n",
        "    validation_steps=len(test_set),\n",
        "    callbacks=callbacks\n",
        ")"
      ]
    },
    {
      "cell_type": "markdown",
      "metadata": {
        "id": "H9d3pKVzrJC_"
      },
      "source": [
        "## Predict"
      ]
    },
    {
      "cell_type": "code",
      "execution_count": null,
      "metadata": {
        "id": "W9XhtVf_rJDB",
        "outputId": "3702f434-6ec8-4ea5-eb5f-4cdca6611481"
      },
      "outputs": [],
      "source": [
        "from tensorflow.keras.preprocessing import image\n",
        "import numpy as np\n",
        "\n",
        "\n",
        "# Fungsi untuk memproses gambar\n",
        "def preprocess_image(img_path):\n",
        "    img = image.load_img(img_path, target_size=(224, 224))\n",
        "    img_array = image.img_to_array(img)\n",
        "    img_array = np.expand_dims(img_array, axis=0)\n",
        "    img_array /= 255.0  # Normalisasi\n",
        "    return img_array\n",
        "\n",
        "# Path ke img\n",
        "img_path = 'result/telur-dadar.jpg'\n",
        "\n",
        "# Preprocessing gambar\n",
        "img_array = preprocess_image(img_path)\n",
        "\n",
        "# Prediksi\n",
        "predictions = model.predict(img_array)\n",
        "\n",
        "# Menampilkan hasil prediksi\n",
        "predicted_class = np.argmax(predictions, axis=1)[0]\n",
        "\n",
        "# Mapping indeks kelas ke label kelas\n",
        "class_indices = training_set.class_indices\n",
        "index_to_class = {v: k for k, v in class_indices.items()}\n",
        "\n",
        "# Menampilkan label kelas yang diprediksi\n",
        "predicted_label = index_to_class[predicted_class]\n",
        "print(f\"Predicted class: {predicted_label}\")"
      ]
    },
    {
      "cell_type": "code",
      "execution_count": null,
      "metadata": {
        "id": "pifibt_irJDB",
        "outputId": "f4e685b5-a6bd-425e-81cd-8160b7bb09c7"
      },
      "outputs": [],
      "source": [
        "# Menampilkan semua prediksi dengan probabilitasnya\n",
        "print(\"All class predictions with probabilities:\")\n",
        "for idx, prob in enumerate(predictions[0]):\n",
        "    label = index_to_class[idx]\n",
        "    print(f\"Class index: {idx}, label: {label}, probability: {prob:.6f}\")"
      ]
    },
    {
      "cell_type": "markdown",
      "metadata": {
        "id": "epAox2sGrJDC"
      },
      "source": [
        "## Saving"
      ]
    },
    {
      "cell_type": "code",
      "execution_count": null,
      "metadata": {
        "id": "1bofy6sjrJDC"
      },
      "outputs": [],
      "source": [
        "model.save('result/best_model_densenet_27.keras')"
      ]
    },
    {
      "cell_type": "code",
      "execution_count": null,
      "metadata": {
        "id": "pz7jH6rmrJDF",
        "outputId": "69d9de77-8df0-4b03-904b-07239c9a0d03"
      },
      "outputs": [],
      "source": [
        "model.summary()"
      ]
    }
  ],
  "metadata": {
    "colab": {
      "provenance": []
    },
    "kernelspec": {
      "display_name": "envData",
      "language": "python",
      "name": "python3"
    },
    "language_info": {
      "codemirror_mode": {
        "name": "ipython",
        "version": 3
      },
      "file_extension": ".py",
      "mimetype": "text/x-python",
      "name": "python",
      "nbconvert_exporter": "python",
      "pygments_lexer": "ipython3",
      "version": "3.9.19"
    }
  },
  "nbformat": 4,
  "nbformat_minor": 0
}
